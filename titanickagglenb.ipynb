{
 "cells": [
  {
   "attachments": {},
   "cell_type": "markdown",
   "metadata": {},
   "source": [
    "#### https://www.kaggle.com/competitions/titanic/overview\n",
    "Overview of the project\n"
   ]
  },
  {
   "attachments": {},
   "cell_type": "markdown",
   "metadata": {},
   "source": [
    "# Import Statements"
   ]
  },
  {
   "cell_type": "code",
   "execution_count": 10,
   "metadata": {},
   "outputs": [],
   "source": [
    "import pandas as pd\n",
    "import numpy as np\n",
    "\n",
    "import seaborn as sns\n",
    "import plotly.express as px\n",
    "import matplotlib.pyplot as plt\n",
    "\n",
    "from sklearn.linear_model import LinearRegression\n",
    "from sklearn.model_selection import train_test_split"
   ]
  },
  {
   "attachments": {},
   "cell_type": "markdown",
   "metadata": {},
   "source": [
    "# Formatting to 2 digits"
   ]
  },
  {
   "cell_type": "code",
   "execution_count": 11,
   "metadata": {},
   "outputs": [],
   "source": [
    "pd.options.display.float_format = '{:,.2f}'.format"
   ]
  },
  {
   "cell_type": "code",
   "execution_count": 12,
   "metadata": {},
   "outputs": [],
   "source": [
    "df_train = pd.read_csv('train.csv')\n",
    "df_test = pd.read_csv('test.csv')"
   ]
  },
  {
   "attachments": {},
   "cell_type": "markdown",
   "metadata": {},
   "source": [
    "### Column names and meaning\n",
    "\n",
    "---------------------------\n",
    "\n",
    "**Characteristics:**  \n",
    "\n",
    "    :Number of Instances: 891 \n",
    "\n",
    "    :Number of Attributes: 12 numeric/categorical predictive. The Survived value (attribute 2) is the target.\n",
    "\n",
    "    :Attribute Information (in order):\n",
    "        1. PassengerId     Id of Passenger\n",
    "        2. Survived     Survival  0 = No, 1 = Yes\n",
    "        3. Pclass    Ticket class 1 = 1st, 2 = 2nd, 3 = 3rd pclass: A proxy for socio-economic status (SES)\n",
    "                1st = Upper\n",
    "                2nd = Middle\n",
    "                3rd = Lower\n",
    "        4. Name     \n",
    "        5. Sex      Sex\t\n",
    "        6. Age       Age in years\tAge is fractional if less than 1. If the age is estimated, is it in the form of xx.5\n",
    "        7. SibSp      # of siblings / spouses aboard the Titanic\t\n",
    "            The dataset defines family relations in this way...\n",
    "            Sibling = brother, sister, stepbrother, stepsister\n",
    "            Spouse = husband, wife (mistresses and fiancés were ignored)\n",
    "        8. Parch      # of parents / children aboard the Titanic\t\n",
    "                    The dataset defines family relations in this way...\n",
    "                    Parent = mother, father\n",
    "                    Child = daughter, son, stepdaughter, stepson\n",
    "                    Some children travelled only with a nanny, therefore parch=0 for them.\n",
    "        9. Ticket      Ticket number\t\n",
    "        10. Fare      Passenger fare\n",
    "        11. Cabin   Cabin number\n",
    "        12. Embarked   Port of Embarkation - C = Cherbourg, Q = Queenstown, S = Southampton\n",
    "    "
   ]
  },
  {
   "attachments": {},
   "cell_type": "markdown",
   "metadata": {},
   "source": [
    "# Preliminary Data exploration"
   ]
  },
  {
   "cell_type": "code",
   "execution_count": 18,
   "metadata": {},
   "outputs": [],
   "source": [
    "df_train.shape\n",
    "#891 rows 12 columns\n",
    "#df_titanic.columns\n",
    "df_train.drop(\"PassengerId\",axis=1,inplace=True)"
   ]
  },
  {
   "cell_type": "code",
   "execution_count": 23,
   "metadata": {},
   "outputs": [
    {
     "data": {
      "text/plain": [
       "Survived      0\n",
       "Pclass        0\n",
       "Name          0\n",
       "Sex           0\n",
       "Age         177\n",
       "SibSp         0\n",
       "Parch         0\n",
       "Ticket        0\n",
       "Fare          0\n",
       "Cabin       687\n",
       "Embarked      2\n",
       "dtype: int64"
      ]
     },
     "execution_count": 23,
     "metadata": {},
     "output_type": "execute_result"
    }
   ],
   "source": [
    "#df_train.head()\n",
    "#Cabin has 687 NaN values, embarked has 2 and age has 177\n",
    "df_train.isna().sum()"
   ]
  },
  {
   "attachments": {},
   "cell_type": "markdown",
   "metadata": {},
   "source": [
    "Let's figure out how to deal with the NaN values and think of questions i want to answer\n",
    "Get to know the data and how it looks before i try to use a Linear regression to try to predict\n",
    "Then i will try other models that i haven't used before like Logistic Regression and the RandomForest which i saw\n",
    "\n",
    "\n",
    "## General steps to follow\n",
    "\n",
    "1.Acquire and explore the data: Download the train and test datasets from Kaggle and perform exploratory data analysis (EDA) to understand the distribution of the variables and identify any patterns or missing data.\n",
    "\n",
    "2.Clean and preprocess the data: Handle missing values and outliers, and convert categorical variables into numerical variables so that they can be used in the model.\n",
    "\n",
    "3.Feature Engineering: Create new features by combining existing variables or by extracting useful information from the variables.\n",
    "\n",
    "4.Select and train a model: Select a suitable machine learning algorithm, such as Random Forest, SVM, Logistic Regression, etc. and train it on the preprocessed data.\n",
    "\n",
    "5.Evaluate the model: Use techniques such as cross-validation to evaluate the performance of the model.\n",
    "\n",
    "6.Make predictions on the test dataset and submit the result to Kaggle."
   ]
  },
  {
   "attachments": {},
   "cell_type": "markdown",
   "metadata": {},
   "source": [
    "# Going in depth on the first steps\n",
    "\n",
    "Acquiring and exploring the data: This step involves downloading the train and test datasets from Kaggle and using tools such as pandas and matplotlib to perform exploratory data analysis (EDA) to understand the distribution of the variables and identify any patterns or missing data.\n",
    "For example, you can use the pandas library to load the train and test datasets into dataframes and use the .head() method to view the first few rows of the data. You can use the .info() method to get a summary of the dataframe, including the number of non-null values in each column, and the .describe() method to get a summary of the numerical variables.\n",
    "\n",
    "You can also use the matplotlib library to create visualizations such as histograms, bar plots, and scatter plots to help you understand the distribution of the variables and identify patterns or outliers in the data.\n",
    "\n",
    "Cleaning and preprocessing the data: This step involves handling missing values and outliers, and converting categorical variables into numerical variables so that they can be used in the model.\n",
    "For example, if you find that a column has missing values, you may choose to fill in the missing values with the mean or median of the column. If you find outliers in the data, you may choose to remove them or replace them with a more reasonable value.\n",
    "\n",
    "To convert categorical variables into numerical variables, you can use techniques such as one-hot encoding, which creates a new binary column for each unique category in a categorical variable.\n",
    "\n",
    "Feature Engineering: This step involves creating new features by combining existing variables or by extracting useful information from the variables.\n",
    "For example, you can create a new feature by combining the \"Pclass\" and \"Fare\" columns to indicate the fare paid by a passenger in each class. You can also create new features by extracting useful information from the \"Name\" column, such as the title of a passenger.\n",
    "\n",
    "You can also group some data based on their similarity, for example the age, you can group them by age range (child, young, adult, senior) which can give more information to the model\n",
    "\n",
    "It's important to note that feature engineering is an iterative process, and you may need to go back and repeat step 2 and 3 multiple times to improve your model's performance."
   ]
  },
  {
   "cell_type": "code",
   "execution_count": null,
   "metadata": {},
   "outputs": [],
   "source": []
  },
  {
   "cell_type": "code",
   "execution_count": null,
   "metadata": {},
   "outputs": [],
   "source": []
  },
  {
   "cell_type": "code",
   "execution_count": null,
   "metadata": {},
   "outputs": [],
   "source": []
  },
  {
   "cell_type": "code",
   "execution_count": null,
   "metadata": {},
   "outputs": [],
   "source": []
  },
  {
   "cell_type": "code",
   "execution_count": null,
   "metadata": {},
   "outputs": [],
   "source": []
  },
  {
   "cell_type": "code",
   "execution_count": null,
   "metadata": {},
   "outputs": [],
   "source": []
  },
  {
   "cell_type": "code",
   "execution_count": null,
   "metadata": {},
   "outputs": [],
   "source": []
  },
  {
   "cell_type": "code",
   "execution_count": null,
   "metadata": {},
   "outputs": [],
   "source": []
  },
  {
   "cell_type": "code",
   "execution_count": null,
   "metadata": {},
   "outputs": [],
   "source": []
  }
 ],
 "metadata": {
  "kernelspec": {
   "display_name": "Python 3",
   "language": "python",
   "name": "python3"
  },
  "language_info": {
   "codemirror_mode": {
    "name": "ipython",
    "version": 3
   },
   "file_extension": ".py",
   "mimetype": "text/x-python",
   "name": "python",
   "nbconvert_exporter": "python",
   "pygments_lexer": "ipython3",
   "version": "3.11.1"
  },
  "orig_nbformat": 4,
  "vscode": {
   "interpreter": {
    "hash": "f5d60dadaadefcdc8ea71f1b2a7d61f81b140c3ffed39f6be6e95efa72c685b2"
   }
  }
 },
 "nbformat": 4,
 "nbformat_minor": 2
}
